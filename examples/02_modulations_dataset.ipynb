{
 "cells": [
  {
   "cell_type": "markdown",
   "id": "579e425b-e5de-4fdc-9908-ed8706d57194",
   "metadata": {
    "tags": []
   },
   "source": [
    "# Example 02 - Modulations Dataset\n",
    "This notebook steps through an example of how to use `torchsig` to instantiate a `SignalDataset` containing 53 unique modulations. The notebook then plots the signals using `Visualizers` for both the IQ and Spectrogram representations of the dataset. The end of the notebook then shows how the instantiated dataset can be saved to an LMDB static dataset for standalone research, experimentation, and/or analysis."
   ]
  },
  {
   "cell_type": "markdown",
   "id": "0d636a9e-55c1-47a1-bc20-9c472acecc3b",
   "metadata": {
    "tags": []
   },
   "source": [
    "----\n",
    "### Import Libraries\n",
    "First, import all the necessary public libraries as well as a few classes from the `torchsig` toolkit."
   ]
  },
  {
   "cell_type": "code",
   "execution_count": null,
   "id": "edd181f0-893f-4646-8d7a-2fe2ee2280f6",
   "metadata": {},
   "outputs": [],
   "source": [
    "from torchsig.utils.visualize import IQVisualizer, SpectrogramVisualizer\n",
    "from torchsig.datasets.modulations import ModulationsDataset\n",
    "from torchsig.utils.dataset import SignalDataset\n",
    "from torch.utils.data import DataLoader\n",
    "from matplotlib import pyplot as plt\n",
    "from tqdm import tqdm\n",
    "import pytorch_lightning as pl\n",
    "import numpy as np\n",
    "import os"
   ]
  },
  {
   "cell_type": "markdown",
   "id": "9d511e6b-7670-473b-a962-c08a9d341ec8",
   "metadata": {
    "tags": []
   },
   "source": [
    "----\n",
    "### Instantiate Modulations Dataset\n",
    "Next, instantiate the `ModulationsDataset` by passing in the desired classes, a boolean specifying whether to use the class name or index as the label, the desired level of signal impairments/augmentations, the number of IQ samples per example, and the total number of samples. Note that the total number of samples will be divided evenly among the class list (for example, `num_samples=5300` will result in 100x samples of each of the 53 modulation classes). Also note that the classes input parameter can be omitted if all classes are desired. \n",
    "\n",
    "If all classes are included at `level=0` (clean signals), all signals will occupy roughly half of the returned signal bandwidth except for the FSK and MSK modulations. These two subfamilies do not contain any pulse shaping, and as such are returned at roughly 1/8th occupied bandwidth for the main lobe. At the higher impairment levels, there is a randomized low pass filter applied at the 8x oversampled rate to suppress the sidelobes prior to downsampling to roughly the same half bandwidth target as the remaining signals.\n",
    "\n",
    "Within the OFDM family, there are 12 subclasses pertaining to the number of subcarriers present within the OFDM signal. These subcarriers are the powers of 2 from 64 to 2048 as well as the LTE specifications values of 72, 180, 300, 600, 900, and 1200. The DC subcarrier is randomly on or off throughout all subcarrier counts. The subcarrier modulations are divided into two categories: 1) randomly select a single modulation from the list: `bpsk, qpsk, 16qam, 64qam, 256qam, and 1024qam` and modulate all subcarriers with the random selection; and 2) randomly select a modulation from the same list for each subcarrier independently. The subcarrier modulations are not included in any of the labels for future classification tasks. In addition to these randomizations, the cyclic prefix ratio is also randomly selected between discrete values of 1/8 and 1/4, and it is also not included in the labels at this time. As a final randomization with the OFDM signals, two distinct sidelobe suppression techniques are evenly sampled from to smooth the discontinuities at the symbol boundaries: 1) apply a window, and 2) apply a low pass filter."
   ]
  },
  {
   "cell_type": "code",
   "execution_count": null,
   "id": "ee772ec3-c2b8-4cde-af9a-b1284df09342",
   "metadata": {},
   "outputs": [],
   "source": [
    "# Seed the dataset instantiation for reproduceability\n",
    "pl.seed_everything(1234567891)\n",
    "\n",
    "dataset = ModulationsDataset(\n",
    "    classes=ModulationsDataset.default_classes,\n",
    "    use_class_idx=False,\n",
    "    level=0,\n",
    "    num_iq_samples=4096,\n",
    "    num_samples=len(ModulationsDataset.default_classes) * 100,\n",
    "    include_snr=True,\n",
    ")\n",
    "\n",
    "data, (modulation, snr) = dataset[600]\n",
    "\n",
    "print(\"Dataset length: {}\".format(len(dataset)))\n",
    "print(\"Number of classes: {}\".format(len(ModulationsDataset.default_classes)))\n",
    "print(\"Data shape: {}\".format(data.shape))\n",
    "print(\"Example modulation: {}\".format(modulation))\n",
    "print(\"SNR: {}\".format(snr))"
   ]
  },
  {
   "cell_type": "markdown",
   "id": "80db34ff-80c2-49a0-96f3-d206cb307809",
   "metadata": {
    "tags": []
   },
   "source": [
    "----\n",
    "### Plot Subset to Verify\n",
    "The `IQVisualizer` and the `SpectrogramVisualizer` can be passed a `Dataloader` and plot visualizations of the dataset. The `batch_size` of the `DataLoader` determines how many examples to plot for each iteration over the visualizer. Note that the dataset itself can be indexed and plotted sequentially using any familiar python plotting tools as an alternative plotting method to using the `torchsig` `Visualizer` as shown below."
   ]
  },
  {
   "cell_type": "code",
   "execution_count": null,
   "id": "b6b1d1fb-3663-459a-a6f7-35ca255c1365",
   "metadata": {},
   "outputs": [],
   "source": [
    "plot_dataset = dataset\n",
    "# For plotting, omit the SNR values\n",
    "class DataWrapper(SignalDataset):\n",
    "    def __init__(self, dataset):\n",
    "        self.dataset = dataset\n",
    "        super().__init__(dataset)\n",
    "\n",
    "    def __getitem__(self, idx):\n",
    "        x, (y, _) = self.dataset[idx]\n",
    "        return x, y\n",
    "\n",
    "    def __len__(self) -> int:\n",
    "        return len(self.dataset)\n",
    "\n",
    "plot_dataset = DataWrapper(dataset)"
   ]
  },
  {
   "cell_type": "code",
   "execution_count": null,
   "id": "5432a961",
   "metadata": {},
   "outputs": [],
   "source": [
    "data_loader = DataLoader(dataset=plot_dataset, batch_size=os.cpu_count() // 2, shuffle=True)\n",
    "\n",
    "visualizer = IQVisualizer(\n",
    "    data_loader=data_loader,\n",
    "    visualize_transform=None,\n",
    ")\n",
    "\n",
    "for figure in iter(visualizer):\n",
    "    figure.set_size_inches(16, 9)\n",
    "    plt.show()\n",
    "    break"
   ]
  },
  {
   "cell_type": "code",
   "execution_count": null,
   "id": "8d299be7-63f2-47e2-8de0-c0419728d20f",
   "metadata": {},
   "outputs": [],
   "source": [
    "visualizer = SpectrogramVisualizer(\n",
    "    data_loader=data_loader,\n",
    "    nfft=1024,\n",
    "    visualize_transform=None,\n",
    ")\n",
    "\n",
    "for figure in iter(visualizer):\n",
    "    figure.set_size_inches(16, 9)\n",
    "    plt.show()\n",
    "    break"
   ]
  }
 ],
 "metadata": {
  "kernelspec": {
   "display_name": "Python 3 (ipykernel)",
   "language": "python",
   "name": "python3"
  },
  "language_info": {
   "codemirror_mode": {
    "name": "ipython",
    "version": 3
   },
   "file_extension": ".py",
   "mimetype": "text/x-python",
   "name": "python",
   "nbconvert_exporter": "python",
   "pygments_lexer": "ipython3",
   "version": "3.8.10"
  }
 },
 "nbformat": 4,
 "nbformat_minor": 5
}
